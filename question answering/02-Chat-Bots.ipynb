{
 "cells": [
  {
   "cell_type": "code",
   "execution_count": 1,
   "metadata": {},
   "outputs": [],
   "source": [
    "import pickle\n",
    "import numpy as np"
   ]
  },
  {
   "cell_type": "code",
   "execution_count": 2,
   "metadata": {},
   "outputs": [],
   "source": [
    "with open(\"train_qa.txt\", \"rb\") as fp:   # Unpickling, read-binary\n",
    "    train_data =  pickle.load(fp)"
   ]
  },
  {
   "cell_type": "code",
   "execution_count": 3,
   "metadata": {},
   "outputs": [],
   "source": [
    "with open(\"test_qa.txt\", \"rb\") as fp:   # Unpickling\n",
    "    test_data =  pickle.load(fp)"
   ]
  },
  {
   "cell_type": "markdown",
   "metadata": {},
   "source": [
    "----"
   ]
  },
  {
   "cell_type": "markdown",
   "metadata": {},
   "source": [
    "## Exploring the Format of the Data"
   ]
  },
  {
   "cell_type": "code",
   "execution_count": 4,
   "metadata": {},
   "outputs": [
    {
     "data": {
      "text/plain": [
       "list"
      ]
     },
     "execution_count": 4,
     "metadata": {},
     "output_type": "execute_result"
    }
   ],
   "source": [
    "type(test_data)"
   ]
  },
  {
   "cell_type": "code",
   "execution_count": 5,
   "metadata": {},
   "outputs": [
    {
     "data": {
      "text/plain": [
       "list"
      ]
     },
     "execution_count": 5,
     "metadata": {},
     "output_type": "execute_result"
    }
   ],
   "source": [
    "type(train_data)"
   ]
  },
  {
   "cell_type": "code",
   "execution_count": 6,
   "metadata": {},
   "outputs": [
    {
     "data": {
      "text/plain": [
       "1000"
      ]
     },
     "execution_count": 6,
     "metadata": {},
     "output_type": "execute_result"
    }
   ],
   "source": [
    "len(test_data)"
   ]
  },
  {
   "cell_type": "code",
   "execution_count": 7,
   "metadata": {},
   "outputs": [
    {
     "data": {
      "text/plain": [
       "10000"
      ]
     },
     "execution_count": 7,
     "metadata": {},
     "output_type": "execute_result"
    }
   ],
   "source": [
    "len(train_data)"
   ]
  },
  {
   "cell_type": "markdown",
   "metadata": {},
   "source": [
    "- the train data contains 10,000 samples"
   ]
  },
  {
   "cell_type": "code",
   "execution_count": 8,
   "metadata": {},
   "outputs": [
    {
     "data": {
      "text/plain": [
       "(['Mary',\n",
       "  'went',\n",
       "  'back',\n",
       "  'to',\n",
       "  'the',\n",
       "  'bathroom',\n",
       "  '.',\n",
       "  'Daniel',\n",
       "  'went',\n",
       "  'to',\n",
       "  'the',\n",
       "  'office',\n",
       "  '.'],\n",
       " ['Is', 'Mary', 'in', 'the', 'bathroom', '?'],\n",
       " 'yes')"
      ]
     },
     "execution_count": 8,
     "metadata": {},
     "output_type": "execute_result"
    }
   ],
   "source": [
    "train_data[50]"
   ]
  },
  {
   "cell_type": "code",
   "execution_count": 9,
   "metadata": {},
   "outputs": [
    {
     "data": {
      "text/plain": [
       "(['Mary',\n",
       "  'moved',\n",
       "  'to',\n",
       "  'the',\n",
       "  'bathroom',\n",
       "  '.',\n",
       "  'Sandra',\n",
       "  'journeyed',\n",
       "  'to',\n",
       "  'the',\n",
       "  'bedroom',\n",
       "  '.'],\n",
       " ['Is', 'Sandra', 'in', 'the', 'hallway', '?'],\n",
       " 'no')"
      ]
     },
     "execution_count": 9,
     "metadata": {},
     "output_type": "execute_result"
    }
   ],
   "source": [
    "train_data[0]"
   ]
  },
  {
   "cell_type": "code",
   "execution_count": 10,
   "metadata": {},
   "outputs": [
    {
     "name": "stdout",
     "output_type": "stream",
     "text": [
      "Story:\n",
      "Daniel grabbed the apple there.\n",
      "Daniel went to the bedroom.\n",
      "John moved to the garden.\n",
      "Sandra journeyed to the office.\n",
      "Daniel put down the apple.\n",
      "Mary went to the bedroom.\n",
      "Mary grabbed the apple there.\n",
      "Sandra went back to the garden.\n",
      "Mary went to the kitchen.\n",
      "Daniel went to the office.\n",
      "\n",
      "Question: Is Mary in the garden?\n",
      "\n",
      "Answer: no\n"
     ]
    }
   ],
   "source": [
    "text=''\n",
    "print('Story:')\n",
    "for sent in train_data[99]:\n",
    "    if sent!='yes' and sent!='no':\n",
    "        for word in sent:\n",
    "            if (word!='.'):\n",
    "                if (word!='?'):\n",
    "                    text+= word + ' '\n",
    "                else:\n",
    "                    print()\n",
    "                    print('Question:', text[:-1]+word)\n",
    "                    print()\n",
    "            else:\n",
    "                print(text[:-1]+word)\n",
    "                text=''\n",
    "    else:\n",
    "        print('Answer:', sent)"
   ]
  },
  {
   "cell_type": "markdown",
   "metadata": {},
   "source": [
    "- list of tuples\n",
    "    - tuple contains: story x, question q and answer a"
   ]
  },
  {
   "cell_type": "code",
   "execution_count": 11,
   "metadata": {},
   "outputs": [
    {
     "data": {
      "text/plain": [
       "'Mary moved to the bathroom . Sandra journeyed to the bedroom .'"
      ]
     },
     "execution_count": 11,
     "metadata": {},
     "output_type": "execute_result"
    }
   ],
   "source": [
    "' '.join(train_data[0][0])"
   ]
  },
  {
   "cell_type": "code",
   "execution_count": 12,
   "metadata": {},
   "outputs": [
    {
     "data": {
      "text/plain": [
       "'Is Sandra in the hallway ?'"
      ]
     },
     "execution_count": 12,
     "metadata": {},
     "output_type": "execute_result"
    }
   ],
   "source": [
    "' '.join(train_data[0][1])"
   ]
  },
  {
   "cell_type": "code",
   "execution_count": 13,
   "metadata": {},
   "outputs": [
    {
     "data": {
      "text/plain": [
       "'no'"
      ]
     },
     "execution_count": 13,
     "metadata": {},
     "output_type": "execute_result"
    }
   ],
   "source": [
    "train_data[0][2]"
   ]
  },
  {
   "cell_type": "markdown",
   "metadata": {},
   "source": [
    "-----\n",
    "\n",
    "## Setting up Vocabulary of All Words"
   ]
  },
  {
   "cell_type": "code",
   "execution_count": 14,
   "metadata": {},
   "outputs": [],
   "source": [
    "# Create a set that holds the vocab words\n",
    "vocab = set()"
   ]
  },
  {
   "cell_type": "code",
   "execution_count": 15,
   "metadata": {},
   "outputs": [],
   "source": [
    "all_data = test_data + train_data"
   ]
  },
  {
   "cell_type": "code",
   "execution_count": 16,
   "metadata": {},
   "outputs": [
    {
     "data": {
      "text/plain": [
       "11000"
      ]
     },
     "execution_count": 16,
     "metadata": {},
     "output_type": "execute_result"
    }
   ],
   "source": [
    "len(all_data)"
   ]
  },
  {
   "cell_type": "code",
   "execution_count": 17,
   "metadata": {},
   "outputs": [
    {
     "data": {
      "text/plain": [
       "{'.',\n",
       " 'Mary',\n",
       " 'Sandra',\n",
       " 'bathroom',\n",
       " 'bedroom',\n",
       " 'journeyed',\n",
       " 'moved',\n",
       " 'the',\n",
       " 'to'}"
      ]
     },
     "execution_count": 17,
     "metadata": {},
     "output_type": "execute_result"
    }
   ],
   "source": [
    "set(train_data[0][0]) # story component"
   ]
  },
  {
   "cell_type": "code",
   "execution_count": 18,
   "metadata": {},
   "outputs": [],
   "source": [
    "for story, question , answer in all_data:\n",
    "    vocab = vocab.union(set(story))\n",
    "    vocab = vocab.union(set(question))"
   ]
  },
  {
   "cell_type": "code",
   "execution_count": 19,
   "metadata": {},
   "outputs": [],
   "source": [
    "vocab.add('no')\n",
    "vocab.add('yes')"
   ]
  },
  {
   "cell_type": "code",
   "execution_count": 20,
   "metadata": {},
   "outputs": [
    {
     "data": {
      "text/plain": [
       "{'.',\n",
       " '?',\n",
       " 'Daniel',\n",
       " 'Is',\n",
       " 'John',\n",
       " 'Mary',\n",
       " 'Sandra',\n",
       " 'apple',\n",
       " 'back',\n",
       " 'bathroom',\n",
       " 'bedroom',\n",
       " 'discarded',\n",
       " 'down',\n",
       " 'dropped',\n",
       " 'football',\n",
       " 'garden',\n",
       " 'got',\n",
       " 'grabbed',\n",
       " 'hallway',\n",
       " 'in',\n",
       " 'journeyed',\n",
       " 'kitchen',\n",
       " 'left',\n",
       " 'milk',\n",
       " 'moved',\n",
       " 'no',\n",
       " 'office',\n",
       " 'picked',\n",
       " 'put',\n",
       " 'the',\n",
       " 'there',\n",
       " 'to',\n",
       " 'took',\n",
       " 'travelled',\n",
       " 'up',\n",
       " 'went',\n",
       " 'yes'}"
      ]
     },
     "execution_count": 20,
     "metadata": {},
     "output_type": "execute_result"
    }
   ],
   "source": [
    "vocab"
   ]
  },
  {
   "cell_type": "code",
   "execution_count": 21,
   "metadata": {},
   "outputs": [],
   "source": [
    "vocab_len = len(vocab) + 1 "
   ]
  },
  {
   "cell_type": "code",
   "execution_count": 22,
   "metadata": {},
   "outputs": [
    {
     "data": {
      "text/plain": [
       "38"
      ]
     },
     "execution_count": 22,
     "metadata": {},
     "output_type": "execute_result"
    }
   ],
   "source": [
    "vocab_len"
   ]
  },
  {
   "cell_type": "code",
   "execution_count": 23,
   "metadata": {},
   "outputs": [],
   "source": [
    "max_story_len = max([len(data[0]) for data in all_data])"
   ]
  },
  {
   "cell_type": "code",
   "execution_count": 24,
   "metadata": {},
   "outputs": [
    {
     "data": {
      "text/plain": [
       "156"
      ]
     },
     "execution_count": 24,
     "metadata": {},
     "output_type": "execute_result"
    }
   ],
   "source": [
    "max_story_len"
   ]
  },
  {
   "cell_type": "code",
   "execution_count": 25,
   "metadata": {},
   "outputs": [],
   "source": [
    "max_question_len = max([len(data[1]) for data in all_data])"
   ]
  },
  {
   "cell_type": "code",
   "execution_count": 26,
   "metadata": {},
   "outputs": [
    {
     "data": {
      "text/plain": [
       "6"
      ]
     },
     "execution_count": 26,
     "metadata": {},
     "output_type": "execute_result"
    }
   ],
   "source": [
    "max_question_len"
   ]
  },
  {
   "cell_type": "markdown",
   "metadata": {},
   "source": [
    "## Vectorizing the Data"
   ]
  },
  {
   "cell_type": "code",
   "execution_count": 27,
   "metadata": {},
   "outputs": [],
   "source": [
    "\n",
    "vocab_size = len(vocab) + 1"
   ]
  },
  {
   "cell_type": "markdown",
   "metadata": {},
   "source": [
    "-----------"
   ]
  },
  {
   "cell_type": "code",
   "execution_count": 28,
   "metadata": {},
   "outputs": [],
   "source": [
    "from tensorflow.keras.preprocessing.sequence import pad_sequences\n",
    "from tensorflow.keras.preprocessing.text import Tokenizer"
   ]
  },
  {
   "cell_type": "code",
   "execution_count": 29,
   "metadata": {},
   "outputs": [],
   "source": [
    "tokenizer = Tokenizer(filters=[])\n",
    "tokenizer.fit_on_texts(vocab)"
   ]
  },
  {
   "cell_type": "code",
   "execution_count": 30,
   "metadata": {},
   "outputs": [
    {
     "data": {
      "text/plain": [
       "{'there': 1,\n",
       " 'is': 2,\n",
       " 'in': 3,\n",
       " 'bathroom': 4,\n",
       " 'back': 5,\n",
       " 'discarded': 6,\n",
       " 'sandra': 7,\n",
       " 'bedroom': 8,\n",
       " 'milk': 9,\n",
       " 'hallway': 10,\n",
       " 'no': 11,\n",
       " 'moved': 12,\n",
       " 'to': 13,\n",
       " 'dropped': 14,\n",
       " 'picked': 15,\n",
       " 'took': 16,\n",
       " 'left': 17,\n",
       " 'football': 18,\n",
       " 'grabbed': 19,\n",
       " 'john': 20,\n",
       " 'down': 21,\n",
       " 'got': 22,\n",
       " '?': 23,\n",
       " 'journeyed': 24,\n",
       " 'office': 25,\n",
       " 'mary': 26,\n",
       " 'the': 27,\n",
       " '.': 28,\n",
       " 'kitchen': 29,\n",
       " 'put': 30,\n",
       " 'up': 31,\n",
       " 'travelled': 32,\n",
       " 'yes': 33,\n",
       " 'daniel': 34,\n",
       " 'went': 35,\n",
       " 'garden': 36,\n",
       " 'apple': 37}"
      ]
     },
     "execution_count": 30,
     "metadata": {},
     "output_type": "execute_result"
    }
   ],
   "source": [
    "tokenizer.word_index"
   ]
  },
  {
   "cell_type": "code",
   "execution_count": 31,
   "metadata": {},
   "outputs": [],
   "source": [
    "train_story_text = []\n",
    "train_question_text = []\n",
    "train_answers = []\n",
    "\n",
    "for story,question,answer in train_data:\n",
    "    train_story_text.append(story)\n",
    "    train_question_text.append(question)"
   ]
  },
  {
   "cell_type": "code",
   "execution_count": 32,
   "metadata": {},
   "outputs": [],
   "source": [
    "train_story_seq = tokenizer.texts_to_sequences(train_story_text)"
   ]
  },
  {
   "cell_type": "code",
   "execution_count": 33,
   "metadata": {},
   "outputs": [
    {
     "data": {
      "text/plain": [
       "10000"
      ]
     },
     "execution_count": 33,
     "metadata": {},
     "output_type": "execute_result"
    }
   ],
   "source": [
    "len(train_story_text)"
   ]
  },
  {
   "cell_type": "code",
   "execution_count": 34,
   "metadata": {},
   "outputs": [
    {
     "data": {
      "text/plain": [
       "10000"
      ]
     },
     "execution_count": 34,
     "metadata": {},
     "output_type": "execute_result"
    }
   ],
   "source": [
    "len(train_story_seq)"
   ]
  },
  {
   "cell_type": "code",
   "execution_count": 63,
   "metadata": {},
   "outputs": [],
   "source": [
    "word_index = tokenizer.word_index"
   ]
  },
  {
   "cell_type": "code",
   "execution_count": 64,
   "metadata": {},
   "outputs": [
    {
     "data": {
      "text/plain": [
       "{'there': 1,\n",
       " 'is': 2,\n",
       " 'in': 3,\n",
       " 'bathroom': 4,\n",
       " 'back': 5,\n",
       " 'discarded': 6,\n",
       " 'sandra': 7,\n",
       " 'bedroom': 8,\n",
       " 'milk': 9,\n",
       " 'hallway': 10,\n",
       " 'no': 11,\n",
       " 'moved': 12,\n",
       " 'to': 13,\n",
       " 'dropped': 14,\n",
       " 'picked': 15,\n",
       " 'took': 16,\n",
       " 'left': 17,\n",
       " 'football': 18,\n",
       " 'grabbed': 19,\n",
       " 'john': 20,\n",
       " 'down': 21,\n",
       " 'got': 22,\n",
       " '?': 23,\n",
       " 'journeyed': 24,\n",
       " 'office': 25,\n",
       " 'mary': 26,\n",
       " 'the': 27,\n",
       " '.': 28,\n",
       " 'kitchen': 29,\n",
       " 'put': 30,\n",
       " 'up': 31,\n",
       " 'travelled': 32,\n",
       " 'yes': 33,\n",
       " 'daniel': 34,\n",
       " 'went': 35,\n",
       " 'garden': 36,\n",
       " 'apple': 37}"
      ]
     },
     "execution_count": 64,
     "metadata": {},
     "output_type": "execute_result"
    }
   ],
   "source": [
    "word_index"
   ]
  },
  {
   "cell_type": "markdown",
   "metadata": {},
   "source": [
    "### Functionalize Vectorization"
   ]
  },
  {
   "cell_type": "code",
   "execution_count": 36,
   "metadata": {},
   "outputs": [],
   "source": [
    "def vectorize_stories(data, word_index=tokenizer.word_index, max_story_len=max_story_len,max_question_len=max_question_len):\n",
    "    X = []\n",
    "    Xq = []\n",
    "    Y = []\n",
    "    for story, query, answer in data:   \n",
    "        x = [word_index[word.lower()] for word in story]\n",
    "        xq = [word_index[word.lower()] for word in query]  \n",
    "        y = np.zeros(vocab_size)  \n",
    "        y[word_index[answer]] = 1\n",
    "        X.append(x)\n",
    "        Xq.append(xq)\n",
    "        Y.append(y)\n",
    "    return (pad_sequences(X, maxlen=max_story_len),pad_sequences(Xq, maxlen=max_question_len), np.array(Y))"
   ]
  },
  {
   "cell_type": "code",
   "execution_count": 37,
   "metadata": {},
   "outputs": [],
   "source": [
    "inputs_train, queries_train, answers_train = vectorize_stories(train_data)"
   ]
  },
  {
   "cell_type": "code",
   "execution_count": 38,
   "metadata": {},
   "outputs": [],
   "source": [
    "inputs_test, queries_test, answers_test = vectorize_stories(test_data)"
   ]
  },
  {
   "cell_type": "code",
   "execution_count": 39,
   "metadata": {},
   "outputs": [
    {
     "data": {
      "text/plain": [
       "array([[ 0,  0,  0, ..., 27,  8, 28],\n",
       "       [ 0,  0,  0, ..., 27, 36, 28],\n",
       "       [ 0,  0,  0, ..., 27, 36, 28],\n",
       "       ...,\n",
       "       [ 0,  0,  0, ..., 27, 37, 28],\n",
       "       [ 0,  0,  0, ..., 27, 36, 28],\n",
       "       [ 0,  0,  0, ..., 37,  1, 28]])"
      ]
     },
     "execution_count": 39,
     "metadata": {},
     "output_type": "execute_result"
    }
   ],
   "source": [
    "inputs_test"
   ]
  },
  {
   "cell_type": "code",
   "execution_count": 40,
   "metadata": {},
   "outputs": [
    {
     "data": {
      "text/plain": [
       "array([[ 2, 20,  3, 27, 29, 23],\n",
       "       [ 2, 20,  3, 27, 29, 23],\n",
       "       [ 2, 20,  3, 27, 36, 23],\n",
       "       ...,\n",
       "       [ 2, 26,  3, 27,  8, 23],\n",
       "       [ 2,  7,  3, 27, 36, 23],\n",
       "       [ 2, 26,  3, 27, 36, 23]])"
      ]
     },
     "execution_count": 40,
     "metadata": {},
     "output_type": "execute_result"
    }
   ],
   "source": [
    "queries_test"
   ]
  },
  {
   "cell_type": "code",
   "execution_count": 41,
   "metadata": {},
   "outputs": [
    {
     "data": {
      "text/plain": [
       "array([[0., 0., 0., ..., 0., 0., 0.],\n",
       "       [0., 0., 0., ..., 0., 0., 0.],\n",
       "       [0., 0., 0., ..., 0., 0., 0.],\n",
       "       ...,\n",
       "       [0., 0., 0., ..., 0., 0., 0.],\n",
       "       [0., 0., 0., ..., 0., 0., 0.],\n",
       "       [0., 0., 0., ..., 0., 0., 0.]])"
      ]
     },
     "execution_count": 41,
     "metadata": {},
     "output_type": "execute_result"
    }
   ],
   "source": [
    "answers_test"
   ]
  },
  {
   "cell_type": "code",
   "execution_count": 42,
   "metadata": {},
   "outputs": [
    {
     "data": {
      "text/plain": [
       "array([  0.,   0.,   0.,   0.,   0.,   0.,   0.,   0.,   0.,   0.,   0.,\n",
       "       503.,   0.,   0.,   0.,   0.,   0.,   0.,   0.,   0.,   0.,   0.,\n",
       "         0.,   0.,   0.,   0.,   0.,   0.,   0.,   0.,   0.,   0.,   0.,\n",
       "       497.,   0.,   0.,   0.,   0.])"
      ]
     },
     "execution_count": 42,
     "metadata": {},
     "output_type": "execute_result"
    }
   ],
   "source": [
    "sum(answers_test)"
   ]
  },
  {
   "cell_type": "code",
   "execution_count": 43,
   "metadata": {},
   "outputs": [
    {
     "data": {
      "text/plain": [
       "33"
      ]
     },
     "execution_count": 43,
     "metadata": {},
     "output_type": "execute_result"
    }
   ],
   "source": [
    "tokenizer.word_index['yes']"
   ]
  },
  {
   "cell_type": "code",
   "execution_count": 44,
   "metadata": {},
   "outputs": [
    {
     "data": {
      "text/plain": [
       "11"
      ]
     },
     "execution_count": 44,
     "metadata": {},
     "output_type": "execute_result"
    }
   ],
   "source": [
    "tokenizer.word_index['no']"
   ]
  },
  {
   "cell_type": "markdown",
   "metadata": {},
   "source": [
    "## Creating the Model"
   ]
  },
  {
   "cell_type": "code",
   "execution_count": 45,
   "metadata": {},
   "outputs": [],
   "source": [
    "from tensorflow.keras.models import Sequential, Model\n",
    "from tensorflow.keras.layers import Embedding\n",
    "from tensorflow.keras.layers import Input, Activation, Dense, Permute, Dropout\n",
    "from tensorflow.keras.layers import add, dot, concatenate\n",
    "from tensorflow.keras.layers import LSTM\n",
    "from tensorflow.keras.optimizers import RMSprop"
   ]
  },
  {
   "cell_type": "code",
   "execution_count": 46,
   "metadata": {},
   "outputs": [],
   "source": [
    "input_sequence = Input((max_story_len,))\n",
    "question = Input((max_question_len,))"
   ]
  },
  {
   "cell_type": "code",
   "execution_count": 47,
   "metadata": {},
   "outputs": [],
   "source": [
    "embedding_dim = 128\n",
    "\n",
    "input_encoder_m = Sequential()\n",
    "input_encoder_m.add(Embedding(input_dim=vocab_size,output_dim= embedding_dim))\n",
    "input_encoder_m.add(Dropout(0.3))"
   ]
  },
  {
   "cell_type": "code",
   "execution_count": 48,
   "metadata": {},
   "outputs": [],
   "source": [
    "input_encoder_c = Sequential()\n",
    "input_encoder_c.add(Embedding(input_dim=vocab_size,output_dim=max_question_len))\n",
    "input_encoder_c.add(Dropout(0.3))"
   ]
  },
  {
   "cell_type": "code",
   "execution_count": 49,
   "metadata": {},
   "outputs": [],
   "source": [
    "question_encoder = Sequential()\n",
    "question_encoder.add(Embedding(input_dim=vocab_size,\n",
    "                               output_dim=embedding_dim,\n",
    "                               input_length=max_question_len))\n",
    "question_encoder.add(Dropout(0.3))"
   ]
  },
  {
   "cell_type": "markdown",
   "metadata": {},
   "source": [
    "### Encode the Sequences"
   ]
  },
  {
   "cell_type": "code",
   "execution_count": 50,
   "metadata": {},
   "outputs": [],
   "source": [
    "input_encoded_m = input_encoder_m(input_sequence)\n",
    "input_encoded_c = input_encoder_c(input_sequence)\n",
    "question_encoded = question_encoder(question)"
   ]
  },
  {
   "cell_type": "markdown",
   "metadata": {},
   "source": [
    "##### Use dot product to compute the match between first input vector seq and the query"
   ]
  },
  {
   "cell_type": "code",
   "execution_count": 51,
   "metadata": {},
   "outputs": [],
   "source": [
    "match = dot([input_encoded_m, question_encoded], axes=(2, 2))\n",
    "match = Activation('softmax')(match)"
   ]
  },
  {
   "cell_type": "markdown",
   "metadata": {},
   "source": [
    "#### Add this match matrix with the second input vector sequence"
   ]
  },
  {
   "cell_type": "code",
   "execution_count": 52,
   "metadata": {},
   "outputs": [],
   "source": [
    "response = add([match, input_encoded_c])  \n",
    "response = Permute((2, 1))(response)  "
   ]
  },
  {
   "cell_type": "markdown",
   "metadata": {},
   "source": [
    "#### Concatenate"
   ]
  },
  {
   "cell_type": "code",
   "execution_count": 53,
   "metadata": {},
   "outputs": [],
   "source": [
    "answer = concatenate([response, question_encoded])"
   ]
  },
  {
   "cell_type": "code",
   "execution_count": 54,
   "metadata": {},
   "outputs": [
    {
     "data": {
      "text/plain": [
       "<KerasTensor: shape=(None, 6, 284) dtype=float32 (created by layer 'concatenate')>"
      ]
     },
     "execution_count": 54,
     "metadata": {},
     "output_type": "execute_result"
    }
   ],
   "source": [
    "answer"
   ]
  },
  {
   "cell_type": "code",
   "execution_count": 55,
   "metadata": {},
   "outputs": [],
   "source": [
    "answer = LSTM(32)(answer)  "
   ]
  },
  {
   "cell_type": "code",
   "execution_count": 56,
   "metadata": {},
   "outputs": [],
   "source": [
    "answer = Dropout(0.5)(answer)\n",
    "answer = Dense(vocab_size)(answer)  "
   ]
  },
  {
   "cell_type": "code",
   "execution_count": 57,
   "metadata": {},
   "outputs": [],
   "source": [
    "answer = Activation('softmax')(answer)\n",
    "\n",
    "model = Model([input_sequence, question], answer)\n",
    "optimizer = RMSprop(learning_rate=0.01)\n",
    "model.compile(optimizer=optimizer, loss='categorical_crossentropy', metrics=['accuracy'])"
   ]
  },
  {
   "cell_type": "code",
   "execution_count": 58,
   "metadata": {},
   "outputs": [
    {
     "name": "stdout",
     "output_type": "stream",
     "text": [
      "Model: \"model\"\n",
      "__________________________________________________________________________________________________\n",
      "Layer (type)                    Output Shape         Param #     Connected to                     \n",
      "==================================================================================================\n",
      "input_1 (InputLayer)            [(None, 156)]        0                                            \n",
      "__________________________________________________________________________________________________\n",
      "input_2 (InputLayer)            [(None, 6)]          0                                            \n",
      "__________________________________________________________________________________________________\n",
      "sequential (Sequential)         (None, None, 128)    4864        input_1[0][0]                    \n",
      "__________________________________________________________________________________________________\n",
      "sequential_2 (Sequential)       (None, 6, 128)       4864        input_2[0][0]                    \n",
      "__________________________________________________________________________________________________\n",
      "dot (Dot)                       (None, 156, 6)       0           sequential[0][0]                 \n",
      "                                                                 sequential_2[0][0]               \n",
      "__________________________________________________________________________________________________\n",
      "activation (Activation)         (None, 156, 6)       0           dot[0][0]                        \n",
      "__________________________________________________________________________________________________\n",
      "sequential_1 (Sequential)       (None, None, 6)      228         input_1[0][0]                    \n",
      "__________________________________________________________________________________________________\n",
      "add (Add)                       (None, 156, 6)       0           activation[0][0]                 \n",
      "                                                                 sequential_1[0][0]               \n",
      "__________________________________________________________________________________________________\n",
      "permute (Permute)               (None, 6, 156)       0           add[0][0]                        \n",
      "__________________________________________________________________________________________________\n",
      "concatenate (Concatenate)       (None, 6, 284)       0           permute[0][0]                    \n",
      "                                                                 sequential_2[0][0]               \n",
      "__________________________________________________________________________________________________\n",
      "lstm (LSTM)                     (None, 32)           40576       concatenate[0][0]                \n",
      "__________________________________________________________________________________________________\n",
      "dropout_3 (Dropout)             (None, 32)           0           lstm[0][0]                       \n",
      "__________________________________________________________________________________________________\n",
      "dense (Dense)                   (None, 38)           1254        dropout_3[0][0]                  \n",
      "__________________________________________________________________________________________________\n",
      "activation_1 (Activation)       (None, 38)           0           dense[0][0]                      \n",
      "==================================================================================================\n",
      "Total params: 51,786\n",
      "Trainable params: 51,786\n",
      "Non-trainable params: 0\n",
      "__________________________________________________________________________________________________\n"
     ]
    }
   ],
   "source": [
    "model.summary()"
   ]
  },
  {
   "cell_type": "code",
   "execution_count": 59,
   "metadata": {},
   "outputs": [],
   "source": [
    "import math\n",
    "from tensorflow.keras.callbacks import ReduceLROnPlateau, EarlyStopping, ModelCheckpoint, LearningRateScheduler\n",
    "\n",
    "initial_learning_rate = 0.01\n",
    "epochs = 120\n",
    "decay = initial_learning_rate / epochs\n",
    "\n",
    "def lr_step_decay(epoch, lr):\n",
    "    drop_rate = 0.5\n",
    "    epochs_drop = 20\n",
    "    return initial_learning_rate * math.pow(drop_rate, math.floor(epoch/epochs_drop))\n",
    "\n",
    "learning_rate = LearningRateScheduler(lr_step_decay, verbose=1)\n",
    "\n",
    "reduce_lr = ReduceLROnPlateau(monitor='val_loss', factor=0.66, patience=5, min_lr=0.0001, verbose=1)  # factor by which the learning rate will be reduced. new_lr = lr * factor"
   ]
  },
  {
   "cell_type": "code",
   "execution_count": 60,
   "metadata": {},
   "outputs": [
    {
     "name": "stdout",
     "output_type": "stream",
     "text": [
      "Epoch 1/120\n",
      "40/40 [==============================] - 7s 113ms/step - loss: 0.9289 - accuracy: 0.4887 - val_loss: 0.7173 - val_accuracy: 0.5030\n",
      "Epoch 2/120\n",
      "40/40 [==============================] - 4s 102ms/step - loss: 0.7105 - accuracy: 0.4958 - val_loss: 0.7253 - val_accuracy: 0.4970\n",
      "Epoch 3/120\n",
      "40/40 [==============================] - 4s 103ms/step - loss: 0.7008 - accuracy: 0.5110 - val_loss: 0.8422 - val_accuracy: 0.5030\n",
      "Epoch 4/120\n",
      "40/40 [==============================] - 4s 104ms/step - loss: 0.7053 - accuracy: 0.4933 - val_loss: 0.6950 - val_accuracy: 0.4970\n",
      "Epoch 5/120\n",
      "40/40 [==============================] - 5s 119ms/step - loss: 0.6982 - accuracy: 0.4992 - val_loss: 0.7147 - val_accuracy: 0.5030\n",
      "Epoch 6/120\n",
      "40/40 [==============================] - 5s 128ms/step - loss: 0.6980 - accuracy: 0.5019 - val_loss: 0.7108 - val_accuracy: 0.4970\n",
      "Epoch 7/120\n",
      "40/40 [==============================] - 5s 124ms/step - loss: 0.6611 - accuracy: 0.5813 - val_loss: 0.5195 - val_accuracy: 0.7560\n",
      "Epoch 8/120\n",
      "40/40 [==============================] - 5s 117ms/step - loss: 0.4719 - accuracy: 0.7889 - val_loss: 0.5935 - val_accuracy: 0.7100\n",
      "Epoch 9/120\n",
      "40/40 [==============================] - 5s 118ms/step - loss: 0.4024 - accuracy: 0.8299 - val_loss: 0.3939 - val_accuracy: 0.8240\n",
      "Epoch 10/120\n",
      "40/40 [==============================] - 5s 117ms/step - loss: 0.3704 - accuracy: 0.8477 - val_loss: 0.4200 - val_accuracy: 0.8090\n",
      "Epoch 11/120\n",
      "40/40 [==============================] - 5s 119ms/step - loss: 0.3514 - accuracy: 0.8472 - val_loss: 0.3881 - val_accuracy: 0.8440\n",
      "Epoch 12/120\n",
      "40/40 [==============================] - 5s 118ms/step - loss: 0.3466 - accuracy: 0.8484 - val_loss: 0.4079 - val_accuracy: 0.8340\n",
      "Epoch 13/120\n",
      "40/40 [==============================] - 5s 116ms/step - loss: 0.3327 - accuracy: 0.8521 - val_loss: 0.4394 - val_accuracy: 0.8300\n",
      "Epoch 14/120\n",
      "40/40 [==============================] - 5s 117ms/step - loss: 0.3253 - accuracy: 0.8574 - val_loss: 0.3705 - val_accuracy: 0.8320\n",
      "Epoch 15/120\n",
      "40/40 [==============================] - 5s 118ms/step - loss: 0.3198 - accuracy: 0.8553 - val_loss: 0.3787 - val_accuracy: 0.8220\n",
      "Epoch 16/120\n",
      "40/40 [==============================] - 5s 131ms/step - loss: 0.3133 - accuracy: 0.8596 - val_loss: 0.3706 - val_accuracy: 0.8120\n",
      "Epoch 17/120\n",
      "40/40 [==============================] - 5s 126ms/step - loss: 0.3058 - accuracy: 0.8636 - val_loss: 0.3631 - val_accuracy: 0.8440\n",
      "Epoch 18/120\n",
      "40/40 [==============================] - 5s 119ms/step - loss: 0.3073 - accuracy: 0.8599 - val_loss: 0.3476 - val_accuracy: 0.8280\n",
      "Epoch 19/120\n",
      "40/40 [==============================] - 5s 115ms/step - loss: 0.2964 - accuracy: 0.8625 - val_loss: 0.3575 - val_accuracy: 0.8360\n",
      "Epoch 20/120\n",
      "40/40 [==============================] - 4s 110ms/step - loss: 0.2970 - accuracy: 0.8649 - val_loss: 0.3789 - val_accuracy: 0.8390\n",
      "Epoch 21/120\n",
      "40/40 [==============================] - 4s 110ms/step - loss: 0.2947 - accuracy: 0.8652 - val_loss: 0.3825 - val_accuracy: 0.8350\n",
      "Epoch 22/120\n",
      "40/40 [==============================] - 4s 110ms/step - loss: 0.2895 - accuracy: 0.8702 - val_loss: 0.3638 - val_accuracy: 0.8150\n",
      "Epoch 23/120\n",
      "40/40 [==============================] - 4s 111ms/step - loss: 0.2915 - accuracy: 0.8674 - val_loss: 0.3770 - val_accuracy: 0.8270\n",
      "Epoch 24/120\n",
      "40/40 [==============================] - 4s 111ms/step - loss: 0.2845 - accuracy: 0.8699 - val_loss: 0.3538 - val_accuracy: 0.8430\n",
      "Epoch 25/120\n",
      "40/40 [==============================] - 4s 111ms/step - loss: 0.2835 - accuracy: 0.8688 - val_loss: 0.3929 - val_accuracy: 0.8390\n",
      "Epoch 26/120\n",
      "40/40 [==============================] - 4s 111ms/step - loss: 0.2799 - accuracy: 0.8744 - val_loss: 0.4435 - val_accuracy: 0.7960\n",
      "Epoch 27/120\n",
      "40/40 [==============================] - 4s 111ms/step - loss: 0.2833 - accuracy: 0.8708 - val_loss: 0.4210 - val_accuracy: 0.8250\n",
      "Epoch 28/120\n",
      "40/40 [==============================] - 4s 111ms/step - loss: 0.2695 - accuracy: 0.8779 - val_loss: 0.3672 - val_accuracy: 0.8310\n",
      "Epoch 29/120\n",
      "40/40 [==============================] - 4s 111ms/step - loss: 0.2710 - accuracy: 0.8742 - val_loss: 0.3750 - val_accuracy: 0.8370\n",
      "Epoch 30/120\n",
      "40/40 [==============================] - 4s 111ms/step - loss: 0.2661 - accuracy: 0.8768 - val_loss: 0.4665 - val_accuracy: 0.8290\n",
      "Epoch 31/120\n",
      "40/40 [==============================] - 4s 110ms/step - loss: 0.2628 - accuracy: 0.8780 - val_loss: 0.4987 - val_accuracy: 0.7920\n",
      "Epoch 32/120\n",
      "40/40 [==============================] - 4s 110ms/step - loss: 0.2634 - accuracy: 0.8778 - val_loss: 0.4020 - val_accuracy: 0.8300\n",
      "Epoch 33/120\n",
      "40/40 [==============================] - 4s 110ms/step - loss: 0.2580 - accuracy: 0.8769 - val_loss: 0.4323 - val_accuracy: 0.8320\n",
      "Epoch 34/120\n",
      "40/40 [==============================] - 4s 111ms/step - loss: 0.2570 - accuracy: 0.8812 - val_loss: 0.4486 - val_accuracy: 0.7950\n",
      "Epoch 35/120\n",
      "40/40 [==============================] - 4s 111ms/step - loss: 0.2513 - accuracy: 0.8847 - val_loss: 0.5313 - val_accuracy: 0.8120\n",
      "Epoch 36/120\n",
      "40/40 [==============================] - 5s 114ms/step - loss: 0.2449 - accuracy: 0.8885 - val_loss: 0.4510 - val_accuracy: 0.8260\n",
      "Epoch 37/120\n",
      "40/40 [==============================] - 4s 111ms/step - loss: 0.2485 - accuracy: 0.8842 - val_loss: 0.4560 - val_accuracy: 0.8170\n",
      "Epoch 38/120\n",
      "40/40 [==============================] - 4s 111ms/step - loss: 0.2441 - accuracy: 0.8861 - val_loss: 0.4010 - val_accuracy: 0.8260\n",
      "Epoch 39/120\n",
      "40/40 [==============================] - 4s 111ms/step - loss: 0.2376 - accuracy: 0.8893 - val_loss: 0.4347 - val_accuracy: 0.8310\n",
      "Epoch 40/120\n",
      "40/40 [==============================] - 5s 113ms/step - loss: 0.2319 - accuracy: 0.8927 - val_loss: 0.4629 - val_accuracy: 0.8250\n",
      "Epoch 41/120\n",
      "40/40 [==============================] - 5s 138ms/step - loss: 0.2299 - accuracy: 0.8925 - val_loss: 0.4727 - val_accuracy: 0.8310\n",
      "Epoch 42/120\n",
      "40/40 [==============================] - 5s 123ms/step - loss: 0.2269 - accuracy: 0.8958 - val_loss: 0.4675 - val_accuracy: 0.8050\n",
      "Epoch 43/120\n",
      "40/40 [==============================] - 5s 133ms/step - loss: 0.2234 - accuracy: 0.8935 - val_loss: 0.4732 - val_accuracy: 0.8340\n",
      "Epoch 44/120\n",
      "40/40 [==============================] - 5s 129ms/step - loss: 0.2165 - accuracy: 0.9039 - val_loss: 0.4249 - val_accuracy: 0.8380\n",
      "Epoch 45/120\n",
      "40/40 [==============================] - 5s 129ms/step - loss: 0.2100 - accuracy: 0.9055 - val_loss: 0.5936 - val_accuracy: 0.8340\n",
      "Epoch 46/120\n",
      "40/40 [==============================] - 5s 121ms/step - loss: 0.2069 - accuracy: 0.9058 - val_loss: 0.4580 - val_accuracy: 0.8350\n",
      "Epoch 47/120\n",
      "40/40 [==============================] - 5s 118ms/step - loss: 0.1943 - accuracy: 0.9129 - val_loss: 0.4542 - val_accuracy: 0.8420\n",
      "Epoch 48/120\n",
      "40/40 [==============================] - 5s 118ms/step - loss: 0.1916 - accuracy: 0.9157 - val_loss: 0.4139 - val_accuracy: 0.8450\n",
      "Epoch 49/120\n",
      "40/40 [==============================] - 5s 118ms/step - loss: 0.1793 - accuracy: 0.9191 - val_loss: 0.4307 - val_accuracy: 0.8450\n",
      "Epoch 50/120\n",
      "40/40 [==============================] - 5s 120ms/step - loss: 0.1722 - accuracy: 0.9256 - val_loss: 0.4827 - val_accuracy: 0.8590\n",
      "Epoch 51/120\n",
      "40/40 [==============================] - 5s 124ms/step - loss: 0.1679 - accuracy: 0.9266 - val_loss: 0.4188 - val_accuracy: 0.8560\n",
      "Epoch 52/120\n",
      "40/40 [==============================] - 5s 117ms/step - loss: 0.1543 - accuracy: 0.9325 - val_loss: 0.4641 - val_accuracy: 0.8590\n",
      "Epoch 53/120\n",
      "40/40 [==============================] - 5s 118ms/step - loss: 0.1559 - accuracy: 0.9322 - val_loss: 0.3935 - val_accuracy: 0.8550\n",
      "Epoch 54/120\n",
      "40/40 [==============================] - 5s 120ms/step - loss: 0.1508 - accuracy: 0.9351 - val_loss: 0.4133 - val_accuracy: 0.8400\n",
      "Epoch 55/120\n",
      "40/40 [==============================] - 5s 118ms/step - loss: 0.1422 - accuracy: 0.9410 - val_loss: 0.3391 - val_accuracy: 0.8610\n",
      "Epoch 56/120\n",
      "40/40 [==============================] - 5s 118ms/step - loss: 0.1321 - accuracy: 0.9448 - val_loss: 0.3475 - val_accuracy: 0.8790\n",
      "Epoch 57/120\n",
      "40/40 [==============================] - 5s 118ms/step - loss: 0.1326 - accuracy: 0.9428 - val_loss: 0.4483 - val_accuracy: 0.8430\n",
      "Epoch 58/120\n",
      "40/40 [==============================] - 5s 117ms/step - loss: 0.1304 - accuracy: 0.9451 - val_loss: 0.4259 - val_accuracy: 0.8800\n",
      "Epoch 59/120\n",
      "40/40 [==============================] - 5s 119ms/step - loss: 0.1283 - accuracy: 0.9460 - val_loss: 0.3785 - val_accuracy: 0.8750\n",
      "Epoch 60/120\n",
      "40/40 [==============================] - 5s 121ms/step - loss: 0.1205 - accuracy: 0.9504 - val_loss: 0.4342 - val_accuracy: 0.8810\n",
      "Epoch 61/120\n",
      "40/40 [==============================] - 5s 119ms/step - loss: 0.1162 - accuracy: 0.9505 - val_loss: 0.3395 - val_accuracy: 0.8840\n",
      "Epoch 62/120\n",
      "40/40 [==============================] - 5s 118ms/step - loss: 0.1134 - accuracy: 0.9550 - val_loss: 0.3462 - val_accuracy: 0.8800\n",
      "Epoch 63/120\n",
      "40/40 [==============================] - 5s 118ms/step - loss: 0.1069 - accuracy: 0.9539 - val_loss: 0.4109 - val_accuracy: 0.8850\n",
      "Epoch 64/120\n",
      "40/40 [==============================] - 5s 118ms/step - loss: 0.1043 - accuracy: 0.9539 - val_loss: 0.3640 - val_accuracy: 0.8900\n",
      "Epoch 65/120\n",
      "40/40 [==============================] - 5s 118ms/step - loss: 0.1017 - accuracy: 0.9578 - val_loss: 0.5359 - val_accuracy: 0.8820\n",
      "Epoch 66/120\n",
      "40/40 [==============================] - 5s 120ms/step - loss: 0.1008 - accuracy: 0.9580 - val_loss: 0.4977 - val_accuracy: 0.8590\n",
      "Epoch 67/120\n",
      "40/40 [==============================] - 5s 120ms/step - loss: 0.1019 - accuracy: 0.9600 - val_loss: 0.3422 - val_accuracy: 0.8910\n",
      "Epoch 68/120\n",
      "40/40 [==============================] - 5s 123ms/step - loss: 0.0948 - accuracy: 0.9624 - val_loss: 0.3800 - val_accuracy: 0.8800\n",
      "Epoch 69/120\n",
      "40/40 [==============================] - 5s 127ms/step - loss: 0.0951 - accuracy: 0.9601 - val_loss: 0.3477 - val_accuracy: 0.8880\n",
      "Epoch 70/120\n",
      "40/40 [==============================] - 5s 122ms/step - loss: 0.0888 - accuracy: 0.9647 - val_loss: 0.4071 - val_accuracy: 0.8780\n",
      "Epoch 71/120\n",
      "40/40 [==============================] - 5s 120ms/step - loss: 0.0891 - accuracy: 0.9654 - val_loss: 0.3742 - val_accuracy: 0.8770\n",
      "Epoch 72/120\n",
      "40/40 [==============================] - 5s 121ms/step - loss: 0.0924 - accuracy: 0.9610 - val_loss: 0.4242 - val_accuracy: 0.8720\n",
      "Epoch 73/120\n",
      "40/40 [==============================] - 5s 121ms/step - loss: 0.0864 - accuracy: 0.9637 - val_loss: 0.3834 - val_accuracy: 0.8760\n",
      "Epoch 74/120\n",
      "40/40 [==============================] - 5s 121ms/step - loss: 0.0788 - accuracy: 0.9688 - val_loss: 0.4354 - val_accuracy: 0.8910\n",
      "Epoch 75/120\n",
      "40/40 [==============================] - 5s 120ms/step - loss: 0.0866 - accuracy: 0.9672 - val_loss: 0.3549 - val_accuracy: 0.8920\n",
      "Epoch 76/120\n",
      "40/40 [==============================] - 5s 122ms/step - loss: 0.0763 - accuracy: 0.9685 - val_loss: 0.3463 - val_accuracy: 0.9010\n",
      "Epoch 77/120\n",
      "40/40 [==============================] - 5s 120ms/step - loss: 0.0802 - accuracy: 0.9691 - val_loss: 0.3608 - val_accuracy: 0.8970\n",
      "Epoch 78/120\n",
      "40/40 [==============================] - 5s 120ms/step - loss: 0.0803 - accuracy: 0.9696 - val_loss: 0.3812 - val_accuracy: 0.8940\n",
      "Epoch 79/120\n",
      "40/40 [==============================] - 5s 125ms/step - loss: 0.0769 - accuracy: 0.9699 - val_loss: 0.4173 - val_accuracy: 0.8800\n",
      "Epoch 80/120\n",
      "40/40 [==============================] - 5s 123ms/step - loss: 0.0742 - accuracy: 0.9697 - val_loss: 0.4089 - val_accuracy: 0.9010\n",
      "Epoch 81/120\n",
      "40/40 [==============================] - 5s 121ms/step - loss: 0.0735 - accuracy: 0.9720 - val_loss: 0.3752 - val_accuracy: 0.9020\n",
      "Epoch 82/120\n",
      "40/40 [==============================] - 5s 126ms/step - loss: 0.0747 - accuracy: 0.9701 - val_loss: 0.4016 - val_accuracy: 0.8990\n",
      "Epoch 83/120\n",
      "40/40 [==============================] - 5s 122ms/step - loss: 0.0653 - accuracy: 0.9760 - val_loss: 0.3619 - val_accuracy: 0.9000\n",
      "Epoch 84/120\n",
      "40/40 [==============================] - 5s 122ms/step - loss: 0.0767 - accuracy: 0.9715 - val_loss: 0.3729 - val_accuracy: 0.9010\n",
      "Epoch 85/120\n",
      "40/40 [==============================] - 5s 122ms/step - loss: 0.0674 - accuracy: 0.9753 - val_loss: 0.4032 - val_accuracy: 0.8910\n",
      "Epoch 86/120\n",
      "40/40 [==============================] - 5s 122ms/step - loss: 0.0633 - accuracy: 0.9764 - val_loss: 0.4025 - val_accuracy: 0.8960\n",
      "Epoch 87/120\n",
      "40/40 [==============================] - 5s 121ms/step - loss: 0.0658 - accuracy: 0.9752 - val_loss: 0.4308 - val_accuracy: 0.8920\n",
      "Epoch 88/120\n",
      "40/40 [==============================] - 5s 122ms/step - loss: 0.0617 - accuracy: 0.9759 - val_loss: 0.4138 - val_accuracy: 0.9050\n",
      "Epoch 89/120\n",
      "40/40 [==============================] - 5s 123ms/step - loss: 0.0569 - accuracy: 0.9800 - val_loss: 0.4318 - val_accuracy: 0.8980\n",
      "Epoch 90/120\n",
      "40/40 [==============================] - 5s 122ms/step - loss: 0.0649 - accuracy: 0.9759 - val_loss: 0.4338 - val_accuracy: 0.9040\n",
      "Epoch 91/120\n",
      "40/40 [==============================] - 5s 122ms/step - loss: 0.0646 - accuracy: 0.9765 - val_loss: 0.3748 - val_accuracy: 0.9070\n",
      "Epoch 92/120\n",
      "40/40 [==============================] - 5s 123ms/step - loss: 0.0583 - accuracy: 0.9767 - val_loss: 0.4259 - val_accuracy: 0.8910\n",
      "Epoch 93/120\n",
      "40/40 [==============================] - 5s 123ms/step - loss: 0.0579 - accuracy: 0.9799 - val_loss: 0.4288 - val_accuracy: 0.9040\n",
      "Epoch 94/120\n",
      "40/40 [==============================] - 5s 129ms/step - loss: 0.0590 - accuracy: 0.9785 - val_loss: 0.4426 - val_accuracy: 0.8970\n",
      "Epoch 95/120\n",
      "40/40 [==============================] - 5s 123ms/step - loss: 0.0557 - accuracy: 0.9787 - val_loss: 0.3486 - val_accuracy: 0.9020\n",
      "Epoch 96/120\n",
      "40/40 [==============================] - 5s 123ms/step - loss: 0.0561 - accuracy: 0.9787 - val_loss: 0.4540 - val_accuracy: 0.9020\n",
      "Epoch 97/120\n",
      "40/40 [==============================] - 5s 122ms/step - loss: 0.0549 - accuracy: 0.9802 - val_loss: 0.4150 - val_accuracy: 0.9090\n",
      "Epoch 98/120\n",
      "40/40 [==============================] - 5s 123ms/step - loss: 0.0519 - accuracy: 0.9803 - val_loss: 0.4814 - val_accuracy: 0.8960\n",
      "Epoch 99/120\n",
      "40/40 [==============================] - 5s 128ms/step - loss: 0.0537 - accuracy: 0.9811 - val_loss: 0.4002 - val_accuracy: 0.9130\n",
      "Epoch 100/120\n",
      "40/40 [==============================] - 5s 124ms/step - loss: 0.0595 - accuracy: 0.9799 - val_loss: 0.3957 - val_accuracy: 0.9000\n",
      "Epoch 101/120\n",
      "40/40 [==============================] - 5s 125ms/step - loss: 0.0526 - accuracy: 0.9798 - val_loss: 0.4166 - val_accuracy: 0.9050\n",
      "Epoch 102/120\n",
      "40/40 [==============================] - 5s 124ms/step - loss: 0.0540 - accuracy: 0.9809 - val_loss: 0.4143 - val_accuracy: 0.9060\n",
      "Epoch 103/120\n",
      "40/40 [==============================] - 5s 127ms/step - loss: 0.0487 - accuracy: 0.9837 - val_loss: 0.4651 - val_accuracy: 0.9030\n",
      "Epoch 104/120\n",
      "40/40 [==============================] - 5s 125ms/step - loss: 0.0455 - accuracy: 0.9836 - val_loss: 0.4352 - val_accuracy: 0.9080\n",
      "Epoch 105/120\n",
      "40/40 [==============================] - 5s 125ms/step - loss: 0.0498 - accuracy: 0.9820 - val_loss: 0.4237 - val_accuracy: 0.9070\n",
      "Epoch 106/120\n",
      "40/40 [==============================] - 5s 125ms/step - loss: 0.0440 - accuracy: 0.9833 - val_loss: 0.4302 - val_accuracy: 0.9060\n",
      "Epoch 107/120\n",
      "40/40 [==============================] - 5s 124ms/step - loss: 0.0494 - accuracy: 0.9834 - val_loss: 0.4157 - val_accuracy: 0.9030\n",
      "Epoch 108/120\n",
      "40/40 [==============================] - 5s 129ms/step - loss: 0.0421 - accuracy: 0.9843 - val_loss: 0.4187 - val_accuracy: 0.9090\n",
      "Epoch 109/120\n",
      "40/40 [==============================] - 5s 128ms/step - loss: 0.0402 - accuracy: 0.9865 - val_loss: 0.5130 - val_accuracy: 0.9030\n",
      "Epoch 110/120\n",
      "40/40 [==============================] - 5s 131ms/step - loss: 0.0528 - accuracy: 0.9827 - val_loss: 0.4158 - val_accuracy: 0.8950\n",
      "Epoch 111/120\n",
      "40/40 [==============================] - 5s 126ms/step - loss: 0.0428 - accuracy: 0.9848 - val_loss: 0.4048 - val_accuracy: 0.9060\n",
      "Epoch 112/120\n",
      "40/40 [==============================] - 5s 125ms/step - loss: 0.0595 - accuracy: 0.9820 - val_loss: 0.4268 - val_accuracy: 0.9050\n",
      "Epoch 113/120\n",
      "40/40 [==============================] - 5s 127ms/step - loss: 0.0466 - accuracy: 0.9835 - val_loss: 0.4513 - val_accuracy: 0.8990\n",
      "Epoch 114/120\n",
      "40/40 [==============================] - 5s 127ms/step - loss: 0.0411 - accuracy: 0.9857 - val_loss: 0.4506 - val_accuracy: 0.9120\n",
      "Epoch 115/120\n",
      "40/40 [==============================] - 5s 125ms/step - loss: 0.0450 - accuracy: 0.9843 - val_loss: 0.4206 - val_accuracy: 0.9100\n",
      "Epoch 116/120\n",
      "40/40 [==============================] - 5s 127ms/step - loss: 0.0421 - accuracy: 0.9835 - val_loss: 0.4430 - val_accuracy: 0.9150\n",
      "Epoch 117/120\n",
      "40/40 [==============================] - 5s 127ms/step - loss: 0.0433 - accuracy: 0.9849 - val_loss: 0.3966 - val_accuracy: 0.9130\n",
      "Epoch 118/120\n",
      "40/40 [==============================] - 5s 133ms/step - loss: 0.0507 - accuracy: 0.9824 - val_loss: 0.4461 - val_accuracy: 0.9100\n",
      "Epoch 119/120\n",
      "40/40 [==============================] - 5s 127ms/step - loss: 0.0418 - accuracy: 0.9850 - val_loss: 0.4219 - val_accuracy: 0.9050\n",
      "Epoch 120/120\n",
      "40/40 [==============================] - 5s 128ms/step - loss: 0.0382 - accuracy: 0.9878 - val_loss: 0.4106 - val_accuracy: 0.9090\n"
     ]
    }
   ],
   "source": [
    "history = model.fit([inputs_train, queries_train], answers_train,batch_size=256,epochs=120,validation_data=([inputs_test, queries_test], answers_test))  # , callbacks=[reduce_lr]"
   ]
  },
  {
   "cell_type": "markdown",
   "metadata": {},
   "source": [
    "### Saving the Model"
   ]
  },
  {
   "cell_type": "code",
   "execution_count": 61,
   "metadata": {},
   "outputs": [
    {
     "name": "stderr",
     "output_type": "stream",
     "text": [
      "C:\\Users\\hiten_t0xw2z5\\anaconda3\\lib\\site-packages\\keras\\utils\\generic_utils.py:494: CustomMaskWarning: Custom mask layers require a config and must override get_config. When loading, the custom mask layer must be passed to the custom_objects argument.\n",
      "  warnings.warn('Custom mask layers require a config and must override '\n"
     ]
    }
   ],
   "source": [
    "filename = 'QandA.h5'\n",
    "model.save(filename)"
   ]
  },
  {
   "cell_type": "code",
   "execution_count": 94,
   "metadata": {},
   "outputs": [],
   "source": [
    "with open(\"word_dict.pkl\", 'wb') as f:\n",
    "    pickle.dump(word_index, f)"
   ]
  },
  {
   "cell_type": "markdown",
   "metadata": {},
   "source": [
    "## Evaluating the Model\n",
    "\n",
    "### Plotting Out Training History"
   ]
  },
  {
   "cell_type": "code",
   "execution_count": 62,
   "metadata": {},
   "outputs": [
    {
     "name": "stdout",
     "output_type": "stream",
     "text": [
      "dict_keys(['loss', 'accuracy', 'val_loss', 'val_accuracy'])\n"
     ]
    },
    {
     "data": {
      "image/png": "[encoded data removed]",
      "text/plain": [
       "<Figure size 432x288 with 1 Axes>"
      ]
     },
     "metadata": {
      "needs_background": "light"
     },
     "output_type": "display_data"
    }
   ],
   "source": [
    "import matplotlib.pyplot as plt\n",
    "%matplotlib inline\n",
    "print(history.history.keys())\n",
    "plt.plot(history.history['accuracy'])\n",
    "plt.plot(history.history['val_accuracy'])\n",
    "plt.title('model accuracy')\n",
    "plt.ylabel('accuracy')\n",
    "plt.xlabel('epoch')\n",
    "plt.legend(['train', 'test'], loc='upper left')\n",
    "plt.savefig('accuracy.png', dpi=180, facecolor='white')\n",
    "plt.show()"
   ]
  },
  {
   "cell_type": "markdown",
   "metadata": {},
   "source": [
    "### Evaluating on Given Test Set"
   ]
  },
  {
   "cell_type": "code",
   "execution_count": 71,
   "metadata": {},
   "outputs": [],
   "source": [
    "pred_results = model.predict(([inputs_test, queries_test]))"
   ]
  },
  {
   "cell_type": "code",
   "execution_count": 72,
   "metadata": {},
   "outputs": [
    {
     "data": {
      "text/plain": [
       "['Mary',\n",
       " 'got',\n",
       " 'the',\n",
       " 'milk',\n",
       " 'there',\n",
       " '.',\n",
       " 'John',\n",
       " 'moved',\n",
       " 'to',\n",
       " 'the',\n",
       " 'bedroom',\n",
       " '.']"
      ]
     },
     "execution_count": 72,
     "metadata": {},
     "output_type": "execute_result"
    }
   ],
   "source": [
    "test_data[0][0]"
   ]
  },
  {
   "cell_type": "code",
   "execution_count": 73,
   "metadata": {},
   "outputs": [
    {
     "name": "stdout",
     "output_type": "stream",
     "text": [
      "Mary got the milk there . John moved to the bedroom .\n"
     ]
    }
   ],
   "source": [
    "story =' '.join(word for word in test_data[0][0])\n",
    "print(story)"
   ]
  },
  {
   "cell_type": "code",
   "execution_count": 74,
   "metadata": {},
   "outputs": [
    {
     "name": "stdout",
     "output_type": "stream",
     "text": [
      "Is John in the kitchen ?\n"
     ]
    }
   ],
   "source": [
    "query = ' '.join(word for word in test_data[0][1])\n",
    "print(query)"
   ]
  },
  {
   "cell_type": "code",
   "execution_count": 75,
   "metadata": {},
   "outputs": [
    {
     "name": "stdout",
     "output_type": "stream",
     "text": [
      "True Test Answer from Data is: no\n"
     ]
    }
   ],
   "source": [
    "print(\"True Test Answer from Data is:\",test_data[0][2])"
   ]
  },
  {
   "cell_type": "code",
   "execution_count": 76,
   "metadata": {},
   "outputs": [
    {
     "name": "stdout",
     "output_type": "stream",
     "text": [
      "Predicted answer is:  no\n",
      "Probability of certainty was:  1.0\n"
     ]
    }
   ],
   "source": [
    "val_max = np.argmax(pred_results[0])\n",
    "\n",
    "for key, val in tokenizer.word_index.items():\n",
    "    if val == val_max:\n",
    "        k = key\n",
    "\n",
    "print(\"Predicted answer is: \", k)\n",
    "print(\"Probability of certainty was: \", pred_results[0][val_max])"
   ]
  }
 ],
 "metadata": {
  "kernelspec": {
   "display_name": "Python 3",
   "language": "python",
   "name": "python3"
  },
  "language_info": {
   "codemirror_mode": {
    "name": "ipython",
    "version": 3
   },
   "file_extension": ".py",
   "mimetype": "text/x-python",
   "name": "python",
   "nbconvert_exporter": "python",
   "pygments_lexer": "ipython3",
   "version": "3.8.8"
  }
 },
 "nbformat": 4,
 "nbformat_minor": 4
}
